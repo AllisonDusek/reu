{
 "cells": [
  {
   "cell_type": "code",
   "execution_count": 11,
   "id": "f8f803f4",
   "metadata": {},
   "outputs": [
    {
     "ename": "IndentationError",
     "evalue": "expected an indented block (3112146130.py, line 6)",
     "output_type": "error",
     "traceback": [
      "\u001b[0;36m  Input \u001b[0;32mIn [11]\u001b[0;36m\u001b[0m\n\u001b[0;31m    if a[n+1:]\u001b[0m\n\u001b[0m    ^\u001b[0m\n\u001b[0;31mIndentationError\u001b[0m\u001b[0;31m:\u001b[0m expected an indented block\n"
     ]
    }
   ],
   "source": [
    "import random \n",
    "\n",
    "def is_inorder(a,n):\n",
    "\n",
    "def is_smallest_elements(a,n):\n",
    "    if a[n+1:]\n",
    "    return Flase\n",
    "    \n",
    "        if a[n-1]\n",
    "        return True\n",
    "\n",
    "def selection_sort(a):\n",
    "    n = len(a)\n",
    "    \n",
    "    for i in range (1, len(a)):\n",
    "        if a [I] > msg\n",
    "      \n",
    "        pass\n",
    "        msf = a [I]\n",
    "    # LI and Termination => array is sorted\n",
    "    \n",
    "    return a.sort()  # this is cheating! \n",
    "\n",
    "a = [i for i in range(89)]\n",
    "for trial in range(10):\n",
    "    random.shuffle(a)\n",
    "    a_orig = a[:]\n",
    "    selection_sort(a)\n",
    "    assert a==sorted(a_orig)"
   ]
  },
  {
   "cell_type": "code",
   "execution_count": null,
   "id": "1899f12b",
   "metadata": {},
   "outputs": [],
   "source": []
  }
 ],
 "metadata": {
  "kernelspec": {
   "display_name": "Python 3 (ipykernel)",
   "language": "python",
   "name": "python3"
  },
  "language_info": {
   "codemirror_mode": {
    "name": "ipython",
    "version": 3
   },
   "file_extension": ".py",
   "mimetype": "text/x-python",
   "name": "python",
   "nbconvert_exporter": "python",
   "pygments_lexer": "ipython3",
   "version": "3.9.12"
  }
 },
 "nbformat": 4,
 "nbformat_minor": 5
}
