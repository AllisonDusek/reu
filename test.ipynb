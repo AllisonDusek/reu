{
 "cells": [
  {
   "cell_type": "code",
   "execution_count": null,
   "id": "9b14185b",
   "metadata": {},
   "outputs": [],
   "source": [
    "# fix my broken code\n",
    "\n",
    "# a note about Python text. \"\" and '' are identical in function. Unlike some languages,\n",
    "# Python does not have a character datatype. For people used to, be careful because 'a' is\n",
    "# character sequence that happens to be one character long\n",
    "\n",
    "# The triple quote \"\"\" \"\"\" is used in docstrings; if a triple quoted string is the first statement\n",
    "# of a function, it is collected up for the automated documentation of that function\n",
    "\n",
    "\n",
    "def count_the_vowels(s):\n",
    "    \n",
    "    \n",
    "    \"\"\"\n",
    "    Given a string s, return the count of vowels in s\n",
    "    \"\"\"\n",
    "    \n",
    "    # hint: iterate through s\n",
    "    # count +1 using a statement like 'if x in a', where a teaches the program\n",
    "    # what a vowel is\n",
    "    \n",
    "    \n",
    "    pass\n",
    "\n",
    "    return 0\n",
    "\n",
    "text = \"The world will little note, nor long remember what we say here, but it can never forget what they did here.\"\n",
    "\n",
    "def test_count_the_vowels():\n",
    "    if count_the_vowels(text)==29:\n",
    "        print(\"correct!\")\n",
    "    else:\n",
    "        print(\"broken!\")\n",
    "\n",
    "test_count_the_vowels()"
   ]
  }
 ],
 "metadata": {
  "kernelspec": {
   "display_name": "Python 3 (ipykernel)",
   "language": "python",
   "name": "python3"
  },
  "language_info": {
   "codemirror_mode": {
    "name": "ipython",
    "version": 3
   },
   "file_extension": ".py",
   "mimetype": "text/x-python",
   "name": "python",
   "nbconvert_exporter": "python",
   "pygments_lexer": "ipython3",
   "version": "3.9.12"
  }
 },
 "nbformat": 4,
 "nbformat_minor": 5
}
