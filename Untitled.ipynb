{
 "cells": [
  {
   "cell_type": "code",
   "execution_count": 2,
   "id": "121a5d4b",
   "metadata": {},
   "outputs": [
    {
     "name": "stdout",
     "output_type": "stream",
     "text": [
      "correct!\n"
     ]
    }
   ],
   "source": [
    "def gcd(a,b):\n",
    "    \n",
    "    if a < b:\n",
    "        a , b = b, a\n",
    "        \n",
    "    if a < 0:\n",
    "        a = -a\n",
    "    \n",
    "    if b < 0:\n",
    "        b = -b\n",
    "    \n",
    "    if b == 0:\n",
    "        return a\n",
    "    \n",
    "    k = a//b\n",
    "    \n",
    "    return gcd(a-k*b,b)\n",
    "        \n",
    "    \n",
    "\n",
    "test = [(1,1,1),(3,5,1),(2,4,2),(15,5,5),(21,15,3)]\n",
    "\n",
    "def test_gcd(test):\n",
    "    correct = 0\n",
    "    for t in test:\n",
    "        if gcd(t[0],t[1])==t[2]:\n",
    "            correct += 1\n",
    "    return correct==len(test)\n",
    "\n",
    "if test_gcd(test):\n",
    "    print('correct!')\n",
    "else:\n",
    "    print('fix my broken code')"
   ]
  },
  {
   "cell_type": "code",
   "execution_count": null,
   "id": "ad6eb6f6",
   "metadata": {},
   "outputs": [],
   "source": []
  }
 ],
 "metadata": {
  "kernelspec": {
   "display_name": "Python 3 (ipykernel)",
   "language": "python",
   "name": "python3"
  },
  "language_info": {
   "codemirror_mode": {
    "name": "ipython",
    "version": 3
   },
   "file_extension": ".py",
   "mimetype": "text/x-python",
   "name": "python",
   "nbconvert_exporter": "python",
   "pygments_lexer": "ipython3",
   "version": "3.9.12"
  }
 },
 "nbformat": 4,
 "nbformat_minor": 5
}
